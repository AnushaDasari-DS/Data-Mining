{
 "cells": [
  {
   "cell_type": "markdown",
   "metadata": {
    "id": "2Udn_ChCmTzR"
   },
   "source": [
    "# Assignment 4 - Convolutional Neural Network\n",
    "\n"
   ]
  },
  {
   "cell_type": "markdown",
   "metadata": {
    "id": "lmcezBW5Hzxu",
    "tags": [
     "pdf-title"
    ]
   },
   "source": [
    "In this assignment we will develop a neural network with fully-connected layers to perform classification"
   ]
  },
  {
   "cell_type": "code",
   "execution_count": 34,
   "metadata": {
    "id": "dvfVkvADtgdu"
   },
   "outputs": [],
   "source": [
    "import numpy as np\n",
    "import matplotlib.pyplot as plt\n",
    "import sys\n",
    "from sklearn import datasets\n",
    "if sys.version_info >= (3, 0):\n",
    "    def xrange(*args, **kwargs):\n",
    "        return iter(range(*args, **kwargs))"
   ]
  },
  {
   "cell_type": "code",
   "execution_count": 35,
   "metadata": {
    "id": "slWD2mKq5SlQ"
   },
   "outputs": [],
   "source": [
    "#load dataset\n",
    "def load_dataset():\n",
    "    iris = datasets.load_iris()\n",
    "    X = iris.data\n",
    "    y = iris.target\n",
    "    return X, y\n",
    "\n",
    "def train_test_split(X, y):\n",
    "    idx = np.arange(len(X))\n",
    "    train_size = int(len(X) * 2/3)\n",
    "    val_size = int(len(X) * 1/6)\n",
    "    np.random.shuffle(idx)\n",
    "    X = X[idx]\n",
    "    y = y[idx]\n",
    "    X_train, X_val, X_test = X[:train_size], X[train_size:train_size+val_size], X[train_size+val_size:]\n",
    "    y_train, y_val, y_test = y[:train_size], y[train_size:train_size+val_size], y[train_size+val_size:]\n",
    "\n",
    "    return X_train, y_train, X_val, y_val, X_test, y_test"
   ]
  },
  {
   "cell_type": "markdown",
   "metadata": {
    "id": "VGq4FfwJHzxx",
    "tags": [
     "pdf-ignore"
    ]
   },
   "source": [
    "We will use the following class `TwoLayerCNN` to represent instances of our network. The network parameters are stored in the instance variable `self.params` where keys are string parameter names and values are numpy arrays. Below, we initialize toy data and a toy model that we will use to develop your implementation. You need to complete the functions."
   ]
  },
  {
   "cell_type": "code",
   "execution_count": 36,
   "metadata": {
    "id": "7p36F_V_Hzxy",
    "tags": [
     "pdf-ignore"
    ]
   },
   "outputs": [],
   "source": [
    "class TwoLayerCNN(object):\n",
    "  \"\"\"\n",
    "  A two-layer fully-connected neural network. The net has an input dimension of\n",
    "  N, a hidden layer dimension of H, and performs classification over C classes.\n",
    "  We train the network with a softmax loss function and L2 regularization on the\n",
    "  weight matrices. The network uses a ReLU nonlinearity after the first fully\n",
    "  connected layer.\n",
    "\n",
    "  In other words, the network has the following architecture:\n",
    "\n",
    "  input - fully connected layer - ReLU - fully connected layer - softmax\n",
    "\n",
    "  The outputs of the second fully-connected layer are the scores for each class.\n",
    "  \"\"\"\n",
    "\n",
    "  def __init__(self, input_size, hidden_size, output_size, std=1e-4):\n",
    "    \"\"\"\n",
    "    Initialize the model. Weights are initialized to small random values and\n",
    "    biases are initialized to zero. Weights and biases are stored in the\n",
    "    variable self.params, which is a dictionary with the following keys:\n",
    "\n",
    "    W1: First layer weights; has shape (D, H)\n",
    "    b1: First layer biases; has shape (H,)\n",
    "    W2: Second layer weights; has shape (H, C)\n",
    "    b2: Second layer biases; has shape (C,)\n",
    "\n",
    "    Inputs:\n",
    "    - input_size: The dimension D of the input data.\n",
    "    - hidden_size: The number of neurons H in the hidden layer.\n",
    "    - output_size: The number of classes C.\n",
    "    \"\"\"\n",
    "    self.params = {}\n",
    "    self.params['W1'] = std * np.random.randn(input_size, hidden_size)\n",
    "    self.params['b1'] = np.zeros(hidden_size)\n",
    "    self.params['W2'] = std * np.random.randn(hidden_size, output_size)\n",
    "    self.params['b2'] = np.zeros(output_size)\n",
    "\n",
    "  def loss(self, X, y=None, reg=0.0):\n",
    "    \"\"\"\n",
    "    Compute the loss and gradients for a two layer fully connected neural\n",
    "    network.\n",
    "\n",
    "    Inputs:\n",
    "    - X: Input data of shape (N, D). Each X[i] is a training sample.\n",
    "    - y: Vector of training labels. y[i] is the label for X[i], and each y[i] is\n",
    "      an integer in the range 0 <= y[i] < C. This parameter is optional; if it\n",
    "      is not passed then we only return scores, and if it is passed then we\n",
    "      instead return the loss and gradients.\n",
    "    - reg: Regularization strength.\n",
    "\n",
    "    Returns:\n",
    "    If y is None, return a matrix scores of shape (N, C) where scores[i, c] is\n",
    "    the score for class c on input X[i].\n",
    "\n",
    "    If y is not None, instead return a tuple of:\n",
    "    - loss: Loss (data loss and regularization loss) for this batch of training\n",
    "      samples.\n",
    "    - grads: Dictionary mapping parameter names to gradients of those parameters\n",
    "      with respect to the loss function; has the same keys as self.params.\n",
    "    \"\"\"\n",
    "    # Unpack variables from the params dictionary\n",
    "    W1, b1 = self.params['W1'], self.params['b1']\n",
    "    W2, b2 = self.params['W2'], self.params['b2']\n",
    "    N, D = X.shape\n",
    "\n",
    "    # Compute the forward pass\n",
    "    scores = None\n",
    "    #############################################################################\n",
    "    # Full Mark: 1                                                              #\n",
    "    # TODO: Perform the forward pass, computing the class scores for the input. #\n",
    "    # Store the result in the scores variable, which should be an array of      #\n",
    "    # shape (N, C).                                                             #\n",
    "    #############################################################################\n",
    "\n",
    "    # Using ReLUs as the Activation Function\n",
    "    z = np.dot(X,W1) + b1\n",
    "    hl = np.maximum(z,0)\n",
    "    scores = np.dot(hl, W2) + b2\n",
    "\n",
    "    #############################################################################\n",
    "    #                              END OF YOUR CODE                             #\n",
    "    #############################################################################\n",
    "\n",
    "    # If the targets are not given then jump out, we're done\n",
    "    if y is None:\n",
    "      return scores\n",
    "\n",
    "    # Compute the loss\n",
    "    loss = None\n",
    "    \n",
    "    scores -= np.max(scores, axis=1, keepdims=True) # avoid numeric instability\n",
    "\n",
    "    #############################################################################\n",
    "    # Full Mark: 2                                                              #\n",
    "    # TODO: Finish the forward pass, and compute the loss. This should include  #\n",
    "    # both the data loss and L2 regularization for W1 and W2. Store the result  #\n",
    "    # in the variable loss, which should be a scalar. Use the Softmax           #\n",
    "    # classifier loss.                                                          #\n",
    "    #############################################################################\n",
    "\n",
    "    exp_z = np.exp(scores)\n",
    "    probs = exp_z/np.sum(exp_z,axis=1,keepdims=True)\n",
    "\n",
    "    data_loss= np.sum(-np.log(probs[range(N),y]))/N\n",
    "    reg_loss_w1 = 0.5*reg*np.sum(W1*W1)\n",
    "    reg_loss_w2 = 0.5*reg*np.sum(W2*W2)\n",
    "    loss = data_loss + reg_loss_w1 + reg_loss_w2\n",
    "\n",
    "    #############################################################################\n",
    "    #                              END OF YOUR CODE                             #\n",
    "    #############################################################################\n",
    "\n",
    "    # Backward pass: compute gradients\n",
    "    grads = {}\n",
    "    #############################################################################\n",
    "    # Full Mark: 2                                                              #\n",
    "    # TODO: Compute the backward pass, computing the derivatives of the weights #\n",
    "    # and biases. Store the results in the grads dictionary. For example,       #\n",
    "    # grads['W1'] should store the gradient on W1, and be a matrix of same size #\n",
    "    #############################################################################\n",
    "    \n",
    "    dz=probs\n",
    "    dz[range(N),y] -= 1\n",
    "    dz = dz/N\n",
    "    # W2 gradient\n",
    "    dW2 = np.dot(hl.T,dz)\n",
    "\n",
    "    # b2 gradient\n",
    "    db2 = np.sum(dz, axis=0)\n",
    "\n",
    "    dh = np.dot(dz,W2.T)\n",
    "    dh[hl<=0] = 0\n",
    "    # W1 gradient\n",
    "    dW1 = np.dot(X.T, dh)\n",
    "\n",
    "    # b1 gradient\n",
    "    db1 = np.sum(dh,axis=0)\n",
    "\n",
    "    # regularization gradient\n",
    "    dW2 = dW2 + reg*W2\n",
    "    dW1 = dW1 + reg*W1\n",
    "    # store the results in the grads dictionary\n",
    "    grads = {'W1':dW1, 'b1':db1, 'W2':dW2, 'b2':db2}\n",
    "\n",
    "    #############################################################################\n",
    "    #                              END OF YOUR CODE                             #\n",
    "    #############################################################################\n",
    "\n",
    "    return loss, grads\n",
    "\n",
    "  def train(self, X, y, X_val, y_val,\n",
    "            learning_rate=1e-3, learning_rate_decay=0.95,\n",
    "            reg=5e-6, num_iters=100,\n",
    "            batch_size=200, verbose=False):\n",
    "    \"\"\"\n",
    "    Train this neural network using stochastic gradient descent.\n",
    "\n",
    "    Inputs:\n",
    "    - X: A numpy array of shape (N, D) giving training data.\n",
    "    - y: A numpy array f shape (N,) giving training labels; y[i] = c means that\n",
    "      X[i] has label c, where 0 <= c < C.\n",
    "    - X_val: A numpy array of shape (N_val, D) giving validation data.\n",
    "    - y_val: A numpy array of shape (N_val,) giving validation labels.\n",
    "    - learning_rate: Scalar giving learning rate for optimization.\n",
    "    - learning_rate_decay: Scalar giving factor used to decay the learning rate\n",
    "      after each epoch.\n",
    "    - reg: Scalar giving regularization strength.\n",
    "    - num_iters: Number of steps to take when optimizing.\n",
    "    - batch_size: Number of training examples to use per step.\n",
    "    - verbose: boolean; if true print progress during optimization.\n",
    "    \"\"\"\n",
    "    num_train = X.shape[0]\n",
    "    iterations_per_epoch = max(num_train / batch_size, 1)\n",
    "\n",
    "    # Use SGD to optimize the parameters in self.model\n",
    "    loss_history = []\n",
    "    train_acc_history = []\n",
    "    val_acc_history = []\n",
    "\n",
    "    for it in xrange(num_iters):\n",
    "\n",
    "      #########################################################################\n",
    "      # Full Mark: 0.5                                                        #\n",
    "      # TODO: Create a random minibatch of training data and labels using     #\n",
    "      # given num_train and batch_size, storing them in X_batch and y_batch   #\n",
    "      # respectively.                                                         #\n",
    "      #########################################################################\n",
    "      indx=np.random.choice(num_train, batch_size)\n",
    "      X_batch = X[indx]\n",
    "      y_batch = y[indx]\n",
    "\n",
    "      #########################################################################\n",
    "      #                             END OF YOUR CODE                          #\n",
    "      #########################################################################\n",
    "\n",
    "      # Compute loss and gradients using the current minibatch\n",
    "      loss, grads = self.loss(X_batch, y=y_batch, reg=reg)\n",
    "      loss_history.append(loss)\n",
    "\n",
    "      #########################################################################\n",
    "      # Full Mark: 0.5                                                        #\n",
    "      # TODO: Use the gradients in the grads dictionary to update the         #\n",
    "      # parameters of the network (stored in the dictionary self.params)      #\n",
    "      # using stochastic gradient descent. You'll need to use the gradients   #\n",
    "      # stored in the grads dictionary defined above.                         #\n",
    "      #########################################################################\n",
    "      \n",
    "      self.params['W1'] -= learning_rate * grads['W1']\n",
    "      self.params['W2'] -= learning_rate * grads['W2']\n",
    "      self.params['b1'] -= learning_rate * grads['b1']\n",
    "      self.params['b2'] -= learning_rate * grads['b2']\n",
    "\n",
    "      #########################################################################\n",
    "      #                             END OF YOUR CODE                          #\n",
    "      #########################################################################\n",
    "\n",
    "      if verbose and it % 10 == 0:\n",
    "        print('iteration %d / %d: loss %f' % (it, num_iters, loss))\n",
    "\n",
    "      # Every epoch, check train and val accuracy and decay learning rate.\n",
    "      if it % iterations_per_epoch == 0:\n",
    "        # Check accuracy\n",
    "        train_acc = (self.predict(X_batch) == y_batch).mean()\n",
    "        val_acc = (self.predict(X_val) == y_val).mean()\n",
    "        train_acc_history.append(train_acc)\n",
    "        val_acc_history.append(val_acc)\n",
    "\n",
    "        # Decay learning rate\n",
    "        learning_rate *= learning_rate_decay\n",
    "\n",
    "    return {\n",
    "      'loss_history': loss_history,\n",
    "      'train_acc_history': train_acc_history,\n",
    "      'val_acc_history': val_acc_history,\n",
    "    }\n",
    "\n",
    "  def predict(self, X):\n",
    "    \"\"\"\n",
    "    Use the trained weights of this two-layer network to predict labels for\n",
    "    data points. For each data point we predict scores for each of the C\n",
    "    classes, and assign each data point to the class with the highest score.\n",
    "\n",
    "    Inputs:\n",
    "    - X: A numpy array of shape (N, D) giving N D-dimensional data points to\n",
    "      classify.\n",
    "\n",
    "    Returns:\n",
    "    - y_pred: A numpy array of shape (N,) giving predicted labels for each of\n",
    "      the elements of X. For all i, y_pred[i] = c means that X[i] is predicted\n",
    "      to have class c, where 0 <= c < C.\n",
    "    \"\"\"\n",
    "\n",
    "    ###########################################################################\n",
    "    # Full Mark: 1                                                            #\n",
    "    # TODO: Implement this function                                           #\n",
    "    ###########################################################################\n",
    "    \n",
    "    z = np.dot(X,self.params['W1']) + self.params['b1']\n",
    "    hl = np.maximum(z,0)\n",
    "    scores = np.dot(hl, self.params['W2']) + self.params['b2']\n",
    "    y_pred = np.argmax(scores, axis=1)\n",
    "\n",
    "    ###########################################################################\n",
    "    #                              END OF YOUR CODE                           #\n",
    "    ###########################################################################\n",
    "\n",
    "    return y_pred"
   ]
  },
  {
   "cell_type": "code",
   "execution_count": 136,
   "metadata": {
    "colab": {
     "base_uri": "https://localhost:8080/"
    },
    "id": "aO2JTi4nmTzd",
    "outputId": "0b87382d-4ad1-47dc-d40f-94961e4df962",
    "pycharm": {
     "name": "#%%\n"
    }
   },
   "outputs": [
    {
     "name": "stdout",
     "output_type": "stream",
     "text": [
      "Final Loss: 1.065153503806422\n",
      "Test accuracy: 0.72\n"
     ]
    }
   ],
   "source": [
    "# To check your implementations.\n",
    "X,y =load_dataset()\n",
    "X_train, y_train, X_val, y_val, X_test, y_test=train_test_split(X, y)\n",
    "\n",
    "###########################################################################\n",
    "# Full Mark: 1                                                            #\n",
    "# TODO: 1. Using TwoLayerCNN to train on given datasets                   #\n",
    "#       2. Print out the final loss                                       #\n",
    "#       3. Print out the test accuracy                                    #\n",
    "###########################################################################\n",
    "\n",
    "input_size = 4\n",
    "hidden_size = 10\n",
    "num_classes = 3\n",
    "net = TwoLayerCNN(input_size, hidden_size, num_classes, std=1e-1)\n",
    "# TODO\n",
    "result = net.train(X_train, y_train, X_val, y_val)\n",
    "loss_values = result['loss_history']\n",
    "val_acc_values = result['val_acc_history']\n",
    "train_acc_values=result['train_acc_history']\n",
    "y_pred=net.predict(X_test)\n",
    "acc=np.mean(y_pred==y_test)\n",
    "\n",
    "print (\"Final Loss:\" , np.mean(loss_values))\n",
    "print (\"Test accuracy:\",acc)\n",
    "###########################################################################\n",
    "#                              END OF YOUR CODE                           #\n",
    "###########################################################################\n"
   ]
  },
  {
   "cell_type": "markdown",
   "metadata": {
    "id": "jqWBT4gv-QDS"
   },
   "source": [
    "The loss function and the accuracies on the training and validation sets would give more insight views."
   ]
  },
  {
   "cell_type": "code",
   "execution_count": 137,
   "metadata": {
    "colab": {
     "base_uri": "https://localhost:8080/",
     "height": 295
    },
    "id": "YxQumZhV0gLZ",
    "outputId": "36cbf9db-3848-4546-e834-8dfa5fe34565"
   },
   "outputs": [
    {
     "data": {
      "image/png": "[encoded data removed]",
      "text/plain": [
       "<Figure size 432x288 with 1 Axes>"
      ]
     },
     "metadata": {
      "needs_background": "light",
      "tags": []
     },
     "output_type": "display_data"
    }
   ],
   "source": [
    "###########################################################################\n",
    "# Full Mark: 0.5                                                          #\n",
    "# TODO: Plot training loss history                                        # \n",
    "###########################################################################\n",
    "x=np.array(range(0,len(loss_values)))\n",
    "plt.plot(x,loss_values)\n",
    "###########################################################################\n",
    "#                              END OF YOUR CODE                           #\n",
    "###########################################################################   \n",
    "    \n",
    "plt.xlabel('iteration')\n",
    "plt.ylabel('training loss')\n",
    "plt.title('Training Loss history')\n",
    "plt.show()"
   ]
  },
  {
   "cell_type": "code",
   "execution_count": 138,
   "metadata": {
    "colab": {
     "base_uri": "https://localhost:8080/",
     "height": 295
    },
    "id": "3EC7Ts8L0hDG",
    "outputId": "3615134d-5f6b-4745-9802-aa404a3fec24"
   },
   "outputs": [
    {
     "data": {
      "image/png": "[encoded data removed]",
      "text/plain": [
       "<Figure size 432x288 with 1 Axes>"
      ]
     },
     "metadata": {
      "needs_background": "light",
      "tags": []
     },
     "output_type": "display_data"
    }
   ],
   "source": [
    "###########################################################################\n",
    "# Full Mark: 0.5                                                          #\n",
    "# TODO: Plot Classification accuracy history, compare train/val accuracy  #\n",
    "###########################################################################\n",
    "epochs = range(0,len(train_acc_values))\n",
    "plt.plot(epochs, train_acc_values, 'r', label='Training accuracy')\n",
    "plt.plot(epochs, val_acc_values, 'c', label='validation accuracy')\n",
    "\n",
    "###########################################################################\n",
    "#                              END OF YOUR CODE                           #\n",
    "###########################################################################  \n",
    "\n",
    "plt.xlabel('Epoch')\n",
    "plt.ylabel('Classification accuracy')\n",
    "plt.title('Classification accuracy history')\n",
    "plt.legend()\n",
    "plt.show()"
   ]
  },
  {
   "cell_type": "code",
   "execution_count": 83,
   "metadata": {
    "colab": {
     "base_uri": "https://localhost:8080/"
    },
    "id": "2-wpiUvF1G0C",
    "outputId": "a1130051-19f1-440a-b208-870dfca35b9f"
   },
   "outputs": [
    {
     "name": "stdout",
     "output_type": "stream",
     "text": [
      "lr 1.000000e-05 reg 5.000000e-01 train accuracy: 0.400000 val accuracy: 0.240000\n",
      "lr 1.000000e-05 reg 6.000000e-01 train accuracy: 0.400000 val accuracy: 0.240000\n",
      "lr 1.000000e-05 reg 7.000000e-01 train accuracy: 0.400000 val accuracy: 0.240000\n",
      "lr 1.000000e-05 reg 8.000000e-01 train accuracy: 0.400000 val accuracy: 0.240000\n",
      "lr 1.000000e-05 reg 9.000000e-01 train accuracy: 0.400000 val accuracy: 0.240000\n",
      "lr 1.000000e-04 reg 5.000000e-01 train accuracy: 0.400000 val accuracy: 0.240000\n",
      "lr 1.000000e-04 reg 6.000000e-01 train accuracy: 0.400000 val accuracy: 0.240000\n",
      "lr 1.000000e-04 reg 7.000000e-01 train accuracy: 0.400000 val accuracy: 0.240000\n",
      "lr 1.000000e-04 reg 8.000000e-01 train accuracy: 0.400000 val accuracy: 0.240000\n",
      "lr 1.000000e-04 reg 9.000000e-01 train accuracy: 0.400000 val accuracy: 0.240000\n",
      "lr 1.000000e-03 reg 5.000000e-01 train accuracy: 0.400000 val accuracy: 0.240000\n",
      "lr 1.000000e-03 reg 6.000000e-01 train accuracy: 0.400000 val accuracy: 0.240000\n",
      "lr 1.000000e-03 reg 7.000000e-01 train accuracy: 0.400000 val accuracy: 0.240000\n",
      "lr 1.000000e-03 reg 8.000000e-01 train accuracy: 0.400000 val accuracy: 0.240000\n",
      "lr 1.000000e-03 reg 9.000000e-01 train accuracy: 0.400000 val accuracy: 0.240000\n",
      "Best validation accuracy achieved during cross-validation: 0.240000\n"
     ]
    }
   ],
   "source": [
    "###############################################################################\n",
    "# Full Mark: 1                                                                #\n",
    "# TODO: Describe or using codes to show how you tune your hyperparameters     #\n",
    "# (hidden layer size, learning rate, numer of training epochs, regularization #\n",
    "# strength and so on). Is your result good? Does it look underfiting?         #\n",
    "# Overfiting?                                                                 #\n",
    "###############################################################################\n",
    "results = {}\n",
    "learning_rates = [1e-4, 1e-5,1e-3]\n",
    "best_val = -1\n",
    "best_stats = None\n",
    "regularization_strengths = [0.5, 0.6, 0.7, 0.8,0.9]\n",
    "iters = 2000\n",
    "for lr in learning_rates:\n",
    "    for rs in regularization_strengths:\n",
    "        net = TwoLayerCNN(input_size, hidden_size, num_classes)\n",
    "        res = net.train(X_train, y_train, X_val, y_val,\n",
    "                    num_iters=iters, batch_size=200,\n",
    "                    learning_rate=lr, learning_rate_decay=0.95,\n",
    "                    reg=rs)\n",
    "        y_pred = net.predict(X_train)\n",
    "        y_val_pred = net.predict(X_val)\n",
    "        train_acc = np.mean(y_train == y_pred)\n",
    "        val_acc = np.mean(y_val == y_val_pred)\n",
    "\n",
    "        results[(lr, rs)] = (train_acc, val_acc)\n",
    "\n",
    "        if best_val < val_acc:\n",
    "            best_stats = stats\n",
    "            best_val = val_acc\n",
    "            best_net = net\n",
    "for lr, reg in sorted(results):\n",
    "    train_accuracy, val_accuracy = results[(lr, reg)]\n",
    "    print('lr %e reg %e train accuracy: %f val accuracy: %f' % (\n",
    "                lr, reg, train_accuracy, val_accuracy))\n",
    "\n",
    "print('Best validation accuracy achieved during cross-validation: %f' % best_val)\n",
    "###############################################################################\n",
    "#                              END OF YOUR CODE                               #\n",
    "###############################################################################  "
   ]
  },
  {
   "cell_type": "markdown",
   "metadata": {
    "id": "8ztQOdvOAqeP"
   },
   "source": [
    "There is lot of fluctutaion in test accuracy on different run on training model. I think the model is underfitting as the best validation accuracy is 0.24.\n"
   ]
  },
  {
   "cell_type": "markdown",
   "metadata": {
    "id": "MmHbeJjcHzyM",
    "tags": [
     "pdf-inline"
    ]
   },
   "source": [
    "**Explain your hyperparameter tuning process below.**\n",
    "\n",
    "$\\color{blue}{\\textit Your Answer:}$ First, I would define possible range of values for all hyperparameters such as hidden layer size, learning rate, number of training epochs, regularization strength etc. Next, I would iterate through all of the values, train, test the model at that particular iteration and store the accuracy score. Once the iteration is complete, I would check at point I have achieved best validation accuracy. Finally, I woud consider the points where I have achieved the best acccuracy to train my model.\n"
   ]
  }
 ],
 "metadata": {
  "colab": {
   "collapsed_sections": [],
   "name": "CS584_Assignment4 _AnushaDasari.ipynb",
   "provenance": []
  },
  "kernelspec": {
   "display_name": "Python 3",
   "language": "python",
   "name": "python3"
  },
  "language_info": {
   "codemirror_mode": {
    "name": "ipython",
    "version": 3
   },
   "file_extension": ".py",
   "mimetype": "text/x-python",
   "name": "python",
   "nbconvert_exporter": "python",
   "pygments_lexer": "ipython3",
   "version": "3.8.8"
  },
  "pycharm": {
   "stem_cell": {
    "cell_type": "raw",
    "metadata": {
     "collapsed": false
    },
    "source": []
   }
  }
 },
 "nbformat": 4,
 "nbformat_minor": 1
}
